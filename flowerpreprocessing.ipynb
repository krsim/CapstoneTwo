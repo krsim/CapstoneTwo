{
 "cells": [
  {
   "cell_type": "markdown",
   "id": "b6aa59e0",
   "metadata": {
    "papermill": {
     "duration": 0.016174,
     "end_time": "2022-02-11T10:51:12.559235",
     "exception": false,
     "start_time": "2022-02-11T10:51:12.543061",
     "status": "completed"
    },
    "tags": []
   },
   "source": [
    "\n",
    "# Preprocessing\n",
    "\n",
    "The data is in a tfrec format which is suitable to be used with a TPU. The data will be changed to .jpeg format to be usaed on a GPU."
   ]
  },
  {
   "cell_type": "code",
   "execution_count": 1,
   "id": "25de5df9",
   "metadata": {
    "execution": {
     "iopub.execute_input": "2022-02-11T10:51:12.595568Z",
     "iopub.status.busy": "2022-02-11T10:51:12.593513Z",
     "iopub.status.idle": "2022-02-11T10:51:19.700874Z",
     "shell.execute_reply": "2022-02-11T10:51:19.699840Z",
     "shell.execute_reply.started": "2022-02-11T10:48:13.659986Z"
    },
    "papermill": {
     "duration": 7.127225,
     "end_time": "2022-02-11T10:51:19.701095",
     "exception": false,
     "start_time": "2022-02-11T10:51:12.573870",
     "status": "completed"
    },
    "tags": []
   },
   "outputs": [],
   "source": [
    "#Import libraries\n",
    "import torch \n",
    "import torchvision\n",
    "import torch.utils.data\n",
    "import torchvision.transforms as transforms\n",
    "import torchvision.datasets as datasets\n",
    "from torch import nn, optim\n",
    "import numpy as np\n",
    "import matplotlib.pyplot as plt\n",
    "import time\n",
    "import os\n",
    "import glob\n",
    "import tensorflow as tf\n",
    "AUTO = tf.data.experimental.AUTOTUNE\n",
    "%matplotlib inline"
   ]
  },
  {
   "cell_type": "code",
   "execution_count": 2,
   "id": "12b0c96d",
   "metadata": {
    "execution": {
     "iopub.execute_input": "2022-02-11T10:51:19.749462Z",
     "iopub.status.busy": "2022-02-11T10:51:19.748181Z",
     "iopub.status.idle": "2022-02-11T10:51:19.750713Z",
     "shell.execute_reply": "2022-02-11T10:51:19.751240Z",
     "shell.execute_reply.started": "2022-02-11T10:48:20.024038Z"
    },
    "papermill": {
     "duration": 0.035854,
     "end_time": "2022-02-11T10:51:19.751470",
     "exception": false,
     "start_time": "2022-02-11T10:51:19.715616",
     "status": "completed"
    },
    "tags": []
   },
   "outputs": [],
   "source": [
    "def decode_image(image_data):\n",
    "    image = tf.image.decode_jpeg(image_data, channels=3)  # image format uint8 [0,255]\n",
    "    image = tf.reshape(image, [*IMAGE_SIZE, 3]) # explicit size needed for TPU\n",
    "    return image\n",
    "\n",
    "def read_labeled_tfrecord(example):\n",
    "    LABELED_TFREC_FORMAT = {\n",
    "        \"image\": tf.io.FixedLenFeature([], tf.string), # tf.string means bytestring\n",
    "        \"class\": tf.io.FixedLenFeature([], tf.int64),  # shape [] means single element\n",
    "    }\n",
    "    example = tf.io.parse_single_example(example, LABELED_TFREC_FORMAT)\n",
    "    image = decode_image(example['image'])\n",
    "    label = tf.cast(example['class'], tf.int32)\n",
    "    return image, label # returns a dataset of (image, label) pairs\n",
    "\n",
    "def read_unlabeled_tfrecord(example):\n",
    "    UNLABELED_TFREC_FORMAT = {\n",
    "        \"image\": tf.io.FixedLenFeature([], tf.string), # tf.string means bytestring\n",
    "        \"id\": tf.io.FixedLenFeature([], tf.string),  # shape [] means single element\n",
    "        # class is missing, this competitions's challenge is to predict flower classes for the test dataset\n",
    "    }\n",
    "    example = tf.io.parse_single_example(example, UNLABELED_TFREC_FORMAT)\n",
    "    image = decode_image(example['image'])\n",
    "    idnum = example['id']\n",
    "    return image, idnum # returns a dataset of image(s)\n",
    "\n",
    "def load_dataset(filenames, labeled=True, ordered=False):\n",
    "    # Read from TFRecords. For optimal performance, reading from multiple files at once and\n",
    "    # disregarding data order. Order does not matter since we will be shuffling the data anyway.\n",
    "\n",
    "    ignore_order = tf.data.Options()\n",
    "    if not ordered:\n",
    "        ignore_order.experimental_deterministic = False # disable order, increase speed\n",
    "\n",
    "    dataset = tf.data.TFRecordDataset(filenames) # automatically interleaves reads from multiple files\n",
    "    dataset = dataset.with_options(ignore_order) # uses data as soon as it streams in, rather than in its original order\n",
    "    dataset = dataset.map(read_labeled_tfrecord if labeled else read_unlabeled_tfrecord)\n",
    "    # returns a dataset of (image, label) pairs if labeled=True or (image, id) pairs if labeled=False\n",
    "    return dataset\n",
    "\n",
    "def data_augment(image, label):\n",
    "    # data augmentation. Thanks to the dataset.prefetch(AUTO) statement in the next function (below),\n",
    "    # this happens essentially for free on TPU. Data pipeline code is executed on the \"CPU\" part\n",
    "    # of the TPU while the TPU itself is computing gradients.\n",
    "    image = tf.image.random_flip_left_right(image)\n",
    "    #image = tf.image.random_saturation(image, 0, 2)\n",
    "    return image, label   \n",
    "\n",
    "def get_training_dataset():\n",
    "    dataset = load_dataset(TRAINING_FILENAMES, labeled=True)\n",
    "    #dataset = dataset.map(data_augment)\n",
    "    #dataset = dataset.repeat() # the training dataset must repeat for several epochs\n",
    "    #dataset = dataset.shuffle(2048)\n",
    "    dataset = dataset.batch(BATCH_SIZE)\n",
    "    dataset = dataset.prefetch(AUTO) # prefetch next batch while training (autotune prefetch buffer size)\n",
    "    return dataset\n",
    "\n",
    "def get_validation_dataset(ordered=False):\n",
    "    dataset = load_dataset(VALIDATION_FILENAMES, labeled=True, ordered=ordered)\n",
    "    dataset = dataset.batch(BATCH_SIZE)\n",
    "    dataset = dataset.cache()\n",
    "    dataset = dataset.prefetch(AUTO) # prefetch next batch while training (autotune prefetch buffer size)\n",
    "    return dataset\n",
    "\n",
    "def get_test_dataset(ordered=False):\n",
    "    dataset = load_dataset(TEST_FILENAMES, labeled=False, ordered=ordered)\n",
    "    dataset = dataset.batch(BATCH_SIZE)\n",
    "    dataset = dataset.prefetch(AUTO) # prefetch next batch while training (autotune prefetch buffer size)\n",
    "    return dataset"
   ]
  },
  {
   "cell_type": "code",
   "execution_count": 3,
   "id": "21b7e630",
   "metadata": {
    "execution": {
     "iopub.execute_input": "2022-02-11T10:51:19.784398Z",
     "iopub.status.busy": "2022-02-11T10:51:19.783699Z",
     "iopub.status.idle": "2022-02-11T10:51:19.820633Z",
     "shell.execute_reply": "2022-02-11T10:51:19.821259Z",
     "shell.execute_reply.started": "2022-02-11T10:48:20.039071Z"
    },
    "papermill": {
     "duration": 0.055396,
     "end_time": "2022-02-11T10:51:19.821492",
     "exception": false,
     "start_time": "2022-02-11T10:51:19.766096",
     "status": "completed"
    },
    "tags": []
   },
   "outputs": [],
   "source": [
    "IMAGE_SIZE = [224, 224]\n",
    "BATCH_SIZE = 16 \n",
    "\n",
    "PATH_SELECT = { # available image sizes\n",
    "    192: '../input/dataset' + '/tfrecords-jpeg-192x192',\n",
    "    224: '../input/dataset' + '/tfrecords-jpeg-224x224',\n",
    "    331: '../input/dataset' + '/tfrecords-jpeg-331x331',\n",
    "    512: '../input/dataset' + '/tfrecords-jpeg-512x512'\n",
    "}\n",
    "\n",
    "PATH = PATH_SELECT[224]\n",
    "\n",
    "TRAINING_FILENAMES = tf.io.gfile.glob(PATH + '/train/*.tfrec')\n",
    "VALIDATION_FILENAMES = tf.io.gfile.glob(PATH + '/val/*.tfrec')\n",
    "TEST_FILENAMES = tf.io.gfile.glob(PATH + '/test/*.tfrec')"
   ]
  },
  {
   "cell_type": "code",
   "execution_count": 4,
   "id": "f933f886",
   "metadata": {
    "execution": {
     "iopub.execute_input": "2022-02-11T10:51:19.861941Z",
     "iopub.status.busy": "2022-02-11T10:51:19.861181Z",
     "iopub.status.idle": "2022-02-11T10:51:27.521125Z",
     "shell.execute_reply": "2022-02-11T10:51:27.521664Z",
     "shell.execute_reply.started": "2022-02-11T10:48:20.062861Z"
    },
    "papermill": {
     "duration": 7.685974,
     "end_time": "2022-02-11T10:51:27.521883",
     "exception": false,
     "start_time": "2022-02-11T10:51:19.835909",
     "status": "completed"
    },
    "tags": []
   },
   "outputs": [
    {
     "name": "stderr",
     "output_type": "stream",
     "text": [
      "2022-02-11 10:51:19.869926: I tensorflow/core/common_runtime/process_util.cc:146] Creating new thread pool with default inter op setting: 2. Tune using inter_op_parallelism_threads for best performance.\n",
      "2022-02-11 10:51:20.124503: I tensorflow/compiler/mlir/mlir_graph_optimization_pass.cc:185] None of the MLIR Optimization Passes are enabled (registered 2)\n"
     ]
    }
   ],
   "source": [
    "dataset = get_training_dataset()\n",
    "images = []\n",
    "labels = []\n",
    "\n",
    "for img, lbl in dataset:\n",
    "    images.append(img)\n",
    "    labels.append(lbl)"
   ]
  },
  {
   "cell_type": "code",
   "execution_count": 5,
   "id": "b4a4891e",
   "metadata": {
    "execution": {
     "iopub.execute_input": "2022-02-11T10:51:27.561506Z",
     "iopub.status.busy": "2022-02-11T10:51:27.560584Z",
     "iopub.status.idle": "2022-02-11T10:51:30.135106Z",
     "shell.execute_reply": "2022-02-11T10:51:30.134336Z",
     "shell.execute_reply.started": "2022-02-11T10:48:28.601861Z"
    },
    "papermill": {
     "duration": 2.597582,
     "end_time": "2022-02-11T10:51:30.135283",
     "exception": false,
     "start_time": "2022-02-11T10:51:27.537701",
     "status": "completed"
    },
    "tags": []
   },
   "outputs": [],
   "source": [
    "img_list=[]\n",
    "for i in range(images.__len__()):\n",
    "    for j in range(images[i].__len__()):\n",
    "        img_list.append(images[i][j,:,:,:])\n",
    "        \n",
    "lab_list = list()\n",
    "for label in labels:\n",
    "    x = label.numpy().tolist()\n",
    "    lab_list+=x"
   ]
  },
  {
   "cell_type": "code",
   "execution_count": 6,
   "id": "222277cf",
   "metadata": {
    "execution": {
     "iopub.execute_input": "2022-02-11T10:51:30.172347Z",
     "iopub.status.busy": "2022-02-11T10:51:30.171307Z",
     "iopub.status.idle": "2022-02-11T10:51:30.173903Z",
     "shell.execute_reply": "2022-02-11T10:51:30.174504Z",
     "shell.execute_reply.started": "2022-02-11T10:48:30.190220Z"
    },
    "papermill": {
     "duration": 0.023629,
     "end_time": "2022-02-11T10:51:30.174701",
     "exception": false,
     "start_time": "2022-02-11T10:51:30.151072",
     "status": "completed"
    },
    "tags": []
   },
   "outputs": [],
   "source": [
    "import os\n",
    "from PIL import Image"
   ]
  },
  {
   "cell_type": "code",
   "execution_count": 7,
   "id": "a2fc2772",
   "metadata": {
    "execution": {
     "iopub.execute_input": "2022-02-11T10:51:30.209062Z",
     "iopub.status.busy": "2022-02-11T10:51:30.208364Z",
     "iopub.status.idle": "2022-02-11T10:51:58.347259Z",
     "shell.execute_reply": "2022-02-11T10:51:58.347837Z",
     "shell.execute_reply.started": "2022-02-11T10:48:30.196136Z"
    },
    "papermill": {
     "duration": 28.158007,
     "end_time": "2022-02-11T10:51:58.348097",
     "exception": false,
     "start_time": "2022-02-11T10:51:30.190090",
     "status": "completed"
    },
    "tags": []
   },
   "outputs": [],
   "source": [
    "for i in range(len(lab_list)):\n",
    "    img = np.array(img_list[i]).astype(np.uint8)\n",
    "    lbl = lab_list[i]\n",
    "    lbl = str(lbl)\n",
    "    if not os.path.exists(\"../output/kaggle/working/dataset224/train/\"+lbl):\n",
    "        os.makedirs(\"../output/kaggle/working/dataset224/train/\"+lbl)\n",
    "    im = Image.fromarray(img)\n",
    "    im.save(\"../output/kaggle/working/dataset224/train/\"+lbl+\"/\"+str(i)+\".jpeg\")"
   ]
  },
  {
   "cell_type": "code",
   "execution_count": 8,
   "id": "396d69d0",
   "metadata": {
    "execution": {
     "iopub.execute_input": "2022-02-11T10:51:58.383794Z",
     "iopub.status.busy": "2022-02-11T10:51:58.382743Z",
     "iopub.status.idle": "2022-02-11T10:52:00.861453Z",
     "shell.execute_reply": "2022-02-11T10:52:00.860789Z",
     "shell.execute_reply.started": "2022-02-11T10:49:12.452417Z"
    },
    "papermill": {
     "duration": 2.497589,
     "end_time": "2022-02-11T10:52:00.861634",
     "exception": false,
     "start_time": "2022-02-11T10:51:58.364045",
     "status": "completed"
    },
    "tags": []
   },
   "outputs": [],
   "source": [
    "dataset = get_validation_dataset()\n",
    "val_images = []\n",
    "val_labels = []\n",
    "\n",
    "for img, lbl in dataset:\n",
    "    val_images.append(img)\n",
    "    val_labels.append(lbl)"
   ]
  },
  {
   "cell_type": "code",
   "execution_count": 9,
   "id": "b3922bf7",
   "metadata": {
    "execution": {
     "iopub.execute_input": "2022-02-11T10:52:00.906140Z",
     "iopub.status.busy": "2022-02-11T10:52:00.904970Z",
     "iopub.status.idle": "2022-02-11T10:52:01.663429Z",
     "shell.execute_reply": "2022-02-11T10:52:01.662782Z",
     "shell.execute_reply.started": "2022-02-11T10:49:15.616147Z"
    },
    "papermill": {
     "duration": 0.786269,
     "end_time": "2022-02-11T10:52:01.663594",
     "exception": false,
     "start_time": "2022-02-11T10:52:00.877325",
     "status": "completed"
    },
    "tags": []
   },
   "outputs": [],
   "source": [
    "val_img_list=[]\n",
    "for i in range(val_images.__len__()):\n",
    "    for j in range(val_images[i].__len__()):\n",
    "        img_list.append(val_images[i][j,:,:,:])\n",
    "        \n",
    "val_lab_list = list()\n",
    "for label in val_labels:\n",
    "    x = label.numpy().tolist()\n",
    "    val_lab_list+=x"
   ]
  },
  {
   "cell_type": "code",
   "execution_count": 10,
   "id": "c94bba63",
   "metadata": {
    "execution": {
     "iopub.execute_input": "2022-02-11T10:52:01.702284Z",
     "iopub.status.busy": "2022-02-11T10:52:01.701279Z",
     "iopub.status.idle": "2022-02-11T10:52:30.229639Z",
     "shell.execute_reply": "2022-02-11T10:52:30.228735Z",
     "shell.execute_reply.started": "2022-02-11T10:49:48.880358Z"
    },
    "papermill": {
     "duration": 28.550922,
     "end_time": "2022-02-11T10:52:30.229827",
     "exception": false,
     "start_time": "2022-02-11T10:52:01.678905",
     "status": "completed"
    },
    "tags": []
   },
   "outputs": [],
   "source": [
    "for i in range(len(lab_list)):\n",
    "    img = np.array(img_list[i]).astype(np.uint8)\n",
    "    lbl = lab_list[i]\n",
    "    lbl = str(lbl)\n",
    "    if not os.path.exists(\"../output/kaggle/working/dataset224/val/\"+lbl):\n",
    "        os.makedirs(\"../output/kaggle/working/dataset224/val/\"+lbl)\n",
    "    im = Image.fromarray(img)\n",
    "    im.save(\"../output/kaggle/working/dataset224/val/\"+lbl+\"/\"+str(i)+\".jpeg\")"
   ]
  },
  {
   "cell_type": "code",
   "execution_count": null,
   "id": "000c7ced",
   "metadata": {
    "papermill": {
     "duration": 0.016721,
     "end_time": "2022-02-11T10:52:30.262276",
     "exception": false,
     "start_time": "2022-02-11T10:52:30.245555",
     "status": "completed"
    },
    "tags": []
   },
   "outputs": [],
   "source": []
  }
 ],
 "metadata": {
  "kernelspec": {
   "display_name": "Python 3",
   "language": "python",
   "name": "python3"
  },
  "language_info": {
   "codemirror_mode": {
    "name": "ipython",
    "version": 3
   },
   "file_extension": ".py",
   "mimetype": "text/x-python",
   "name": "python",
   "nbconvert_exporter": "python",
   "pygments_lexer": "ipython3",
   "version": "3.7.12"
  },
  "papermill": {
   "default_parameters": {},
   "duration": 91.831929,
   "end_time": "2022-02-11T10:52:33.767262",
   "environment_variables": {},
   "exception": null,
   "input_path": "__notebook__.ipynb",
   "output_path": "__notebook__.ipynb",
   "parameters": {},
   "start_time": "2022-02-11T10:51:01.935333",
   "version": "2.3.3"
  }
 },
 "nbformat": 4,
 "nbformat_minor": 5
}
