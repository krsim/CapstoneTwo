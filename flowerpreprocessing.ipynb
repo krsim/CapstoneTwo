{
 "cells": [
  {
   "cell_type": "markdown",
   "id": "b2158097",
   "metadata": {
    "papermill": {
     "duration": 0.011203,
     "end_time": "2022-02-11T10:09:36.751134",
     "exception": false,
     "start_time": "2022-02-11T10:09:36.739931",
     "status": "completed"
    },
    "tags": []
   },
   "source": [
    "\n",
    "# Preprocessing\n",
    "\n",
    "The data is in a tfrec format which is suitable to be used with a TPU. The data will be changed to .jpeg format to be usaed on a GPU."
   ]
  },
  {
   "cell_type": "code",
   "execution_count": 1,
   "id": "3dcc47cf",
   "metadata": {
    "execution": {
     "iopub.execute_input": "2022-02-11T10:09:36.777249Z",
     "iopub.status.busy": "2022-02-11T10:09:36.776167Z",
     "iopub.status.idle": "2022-02-11T10:09:42.895240Z",
     "shell.execute_reply": "2022-02-11T10:09:42.895778Z",
     "shell.execute_reply.started": "2022-02-11T09:42:02.153707Z"
    },
    "papermill": {
     "duration": 6.132936,
     "end_time": "2022-02-11T10:09:42.896082",
     "exception": false,
     "start_time": "2022-02-11T10:09:36.763146",
     "status": "completed"
    },
    "tags": []
   },
   "outputs": [],
   "source": [
    "#Import libraries\n",
    "import torch \n",
    "import torchvision\n",
    "import torch.utils.data\n",
    "import torchvision.transforms as transforms\n",
    "import torchvision.datasets as datasets\n",
    "from torch import nn, optim\n",
    "import numpy as np\n",
    "import matplotlib.pyplot as plt\n",
    "import time\n",
    "import os\n",
    "import glob\n",
    "import tensorflow as tf\n",
    "AUTO = tf.data.experimental.AUTOTUNE\n",
    "%matplotlib inline"
   ]
  },
  {
   "cell_type": "code",
   "execution_count": 2,
   "id": "c867567b",
   "metadata": {
    "execution": {
     "iopub.execute_input": "2022-02-11T10:09:42.918979Z",
     "iopub.status.busy": "2022-02-11T10:09:42.918329Z",
     "iopub.status.idle": "2022-02-11T10:09:42.932289Z",
     "shell.execute_reply": "2022-02-11T10:09:42.932735Z",
     "shell.execute_reply.started": "2022-02-11T09:42:03.394351Z"
    },
    "papermill": {
     "duration": 0.027075,
     "end_time": "2022-02-11T10:09:42.933055",
     "exception": false,
     "start_time": "2022-02-11T10:09:42.905980",
     "status": "completed"
    },
    "tags": []
   },
   "outputs": [],
   "source": [
    "def decode_image(image_data):\n",
    "    image = tf.image.decode_jpeg(image_data, channels=3)  # image format uint8 [0,255]\n",
    "    image = tf.reshape(image, [*IMAGE_SIZE, 3]) # explicit size needed for TPU\n",
    "    return image\n",
    "\n",
    "def read_labeled_tfrecord(example):\n",
    "    LABELED_TFREC_FORMAT = {\n",
    "        \"image\": tf.io.FixedLenFeature([], tf.string), # tf.string means bytestring\n",
    "        \"class\": tf.io.FixedLenFeature([], tf.int64),  # shape [] means single element\n",
    "    }\n",
    "    example = tf.io.parse_single_example(example, LABELED_TFREC_FORMAT)\n",
    "    image = decode_image(example['image'])\n",
    "    label = tf.cast(example['class'], tf.int32)\n",
    "    return image, label # returns a dataset of (image, label) pairs\n",
    "\n",
    "def read_unlabeled_tfrecord(example):\n",
    "    UNLABELED_TFREC_FORMAT = {\n",
    "        \"image\": tf.io.FixedLenFeature([], tf.string), # tf.string means bytestring\n",
    "        \"id\": tf.io.FixedLenFeature([], tf.string),  # shape [] means single element\n",
    "        # class is missing, this competitions's challenge is to predict flower classes for the test dataset\n",
    "    }\n",
    "    example = tf.io.parse_single_example(example, UNLABELED_TFREC_FORMAT)\n",
    "    image = decode_image(example['image'])\n",
    "    idnum = example['id']\n",
    "    return image, idnum # returns a dataset of image(s)\n",
    "\n",
    "def load_dataset(filenames, labeled=True, ordered=False):\n",
    "    # Read from TFRecords. For optimal performance, reading from multiple files at once and\n",
    "    # disregarding data order. Order does not matter since we will be shuffling the data anyway.\n",
    "\n",
    "    ignore_order = tf.data.Options()\n",
    "    if not ordered:\n",
    "        ignore_order.experimental_deterministic = False # disable order, increase speed\n",
    "\n",
    "    dataset = tf.data.TFRecordDataset(filenames) # automatically interleaves reads from multiple files\n",
    "    dataset = dataset.with_options(ignore_order) # uses data as soon as it streams in, rather than in its original order\n",
    "    dataset = dataset.map(read_labeled_tfrecord if labeled else read_unlabeled_tfrecord)\n",
    "    # returns a dataset of (image, label) pairs if labeled=True or (image, id) pairs if labeled=False\n",
    "    return dataset\n",
    "\n",
    "def data_augment(image, label):\n",
    "    # data augmentation. Thanks to the dataset.prefetch(AUTO) statement in the next function (below),\n",
    "    # this happens essentially for free on TPU. Data pipeline code is executed on the \"CPU\" part\n",
    "    # of the TPU while the TPU itself is computing gradients.\n",
    "    image = tf.image.random_flip_left_right(image)\n",
    "    #image = tf.image.random_saturation(image, 0, 2)\n",
    "    return image, label   \n",
    "\n",
    "def get_training_dataset():\n",
    "    dataset = load_dataset(TRAINING_FILENAMES, labeled=True)\n",
    "    #dataset = dataset.map(data_augment)\n",
    "    #dataset = dataset.repeat() # the training dataset must repeat for several epochs\n",
    "    #dataset = dataset.shuffle(2048)\n",
    "    dataset = dataset.batch(BATCH_SIZE)\n",
    "    dataset = dataset.prefetch(AUTO) # prefetch next batch while training (autotune prefetch buffer size)\n",
    "    return dataset\n",
    "\n",
    "def get_validation_dataset(ordered=False):\n",
    "    dataset = load_dataset(VALIDATION_FILENAMES, labeled=True, ordered=ordered)\n",
    "    dataset = dataset.batch(BATCH_SIZE)\n",
    "    dataset = dataset.cache()\n",
    "    dataset = dataset.prefetch(AUTO) # prefetch next batch while training (autotune prefetch buffer size)\n",
    "    return dataset\n",
    "\n",
    "def get_test_dataset(ordered=False):\n",
    "    dataset = load_dataset(TEST_FILENAMES, labeled=False, ordered=ordered)\n",
    "    dataset = dataset.batch(BATCH_SIZE)\n",
    "    dataset = dataset.prefetch(AUTO) # prefetch next batch while training (autotune prefetch buffer size)\n",
    "    return dataset"
   ]
  },
  {
   "cell_type": "code",
   "execution_count": 3,
   "id": "9afef975",
   "metadata": {
    "execution": {
     "iopub.execute_input": "2022-02-11T10:09:42.959150Z",
     "iopub.status.busy": "2022-02-11T10:09:42.958533Z",
     "iopub.status.idle": "2022-02-11T10:09:42.995343Z",
     "shell.execute_reply": "2022-02-11T10:09:42.994660Z",
     "shell.execute_reply.started": "2022-02-11T09:44:10.233545Z"
    },
    "papermill": {
     "duration": 0.052535,
     "end_time": "2022-02-11T10:09:42.995484",
     "exception": false,
     "start_time": "2022-02-11T10:09:42.942949",
     "status": "completed"
    },
    "tags": []
   },
   "outputs": [],
   "source": [
    "IMAGE_SIZE = [224, 224]\n",
    "BATCH_SIZE = 16 \n",
    "\n",
    "PATH_SELECT = { # available image sizes\n",
    "    192: '../input/dataset' + '/tfrecords-jpeg-192x192',\n",
    "    224: '../input/dataset' + '/tfrecords-jpeg-224x224',\n",
    "    331: '../input/dataset' + '/tfrecords-jpeg-331x331',\n",
    "    512: '../input/dataset' + '/tfrecords-jpeg-512x512'\n",
    "}\n",
    "\n",
    "PATH = PATH_SELECT[224]\n",
    "\n",
    "TRAINING_FILENAMES = tf.io.gfile.glob(PATH + '/train/*.tfrec')\n",
    "VALIDATION_FILENAMES = tf.io.gfile.glob(PATH + '/val/*.tfrec')\n",
    "TEST_FILENAMES = tf.io.gfile.glob(PATH + '/test/*.tfrec')"
   ]
  },
  {
   "cell_type": "code",
   "execution_count": 4,
   "id": "0ee2ee26",
   "metadata": {
    "execution": {
     "iopub.execute_input": "2022-02-11T10:09:43.025030Z",
     "iopub.status.busy": "2022-02-11T10:09:43.024340Z",
     "iopub.status.idle": "2022-02-11T10:09:51.365012Z",
     "shell.execute_reply": "2022-02-11T10:09:51.364139Z",
     "shell.execute_reply.started": "2022-02-11T09:44:11.190805Z"
    },
    "papermill": {
     "duration": 8.359969,
     "end_time": "2022-02-11T10:09:51.365209",
     "exception": false,
     "start_time": "2022-02-11T10:09:43.005240",
     "status": "completed"
    },
    "tags": []
   },
   "outputs": [
    {
     "name": "stderr",
     "output_type": "stream",
     "text": [
      "2022-02-11 10:09:43.033763: I tensorflow/core/common_runtime/process_util.cc:146] Creating new thread pool with default inter op setting: 2. Tune using inter_op_parallelism_threads for best performance.\n",
      "2022-02-11 10:09:43.231600: I tensorflow/compiler/mlir/mlir_graph_optimization_pass.cc:185] None of the MLIR Optimization Passes are enabled (registered 2)\n"
     ]
    }
   ],
   "source": [
    "dataset = get_training_dataset()\n",
    "images = []\n",
    "labels = []\n",
    "\n",
    "for img, lbl in dataset:\n",
    "    images.append(img)\n",
    "    labels.append(lbl)"
   ]
  },
  {
   "cell_type": "code",
   "execution_count": 5,
   "id": "29145448",
   "metadata": {
    "execution": {
     "iopub.execute_input": "2022-02-11T10:09:51.389439Z",
     "iopub.status.busy": "2022-02-11T10:09:51.388555Z",
     "iopub.status.idle": "2022-02-11T10:09:52.994106Z",
     "shell.execute_reply": "2022-02-11T10:09:52.993564Z",
     "shell.execute_reply.started": "2022-02-11T09:44:23.327028Z"
    },
    "papermill": {
     "duration": 1.618304,
     "end_time": "2022-02-11T10:09:52.994244",
     "exception": false,
     "start_time": "2022-02-11T10:09:51.375940",
     "status": "completed"
    },
    "tags": []
   },
   "outputs": [],
   "source": [
    "img_list=[]\n",
    "for i in range(images.__len__()):\n",
    "    for j in range(images[i].__len__()):\n",
    "        img_list.append(images[i][j,:,:,:])\n",
    "        \n",
    "lab_list = list()\n",
    "for label in labels:\n",
    "    x = label.numpy().tolist()\n",
    "    lab_list+=x"
   ]
  },
  {
   "cell_type": "code",
   "execution_count": 6,
   "id": "5a9345ac",
   "metadata": {
    "execution": {
     "iopub.execute_input": "2022-02-11T10:09:53.019179Z",
     "iopub.status.busy": "2022-02-11T10:09:53.018586Z",
     "iopub.status.idle": "2022-02-11T10:09:53.020901Z",
     "shell.execute_reply": "2022-02-11T10:09:53.021337Z",
     "shell.execute_reply.started": "2022-02-11T09:44:28.226525Z"
    },
    "papermill": {
     "duration": 0.017124,
     "end_time": "2022-02-11T10:09:53.021516",
     "exception": false,
     "start_time": "2022-02-11T10:09:53.004392",
     "status": "completed"
    },
    "tags": []
   },
   "outputs": [],
   "source": [
    "import os\n",
    "from PIL import Image"
   ]
  },
  {
   "cell_type": "code",
   "execution_count": 7,
   "id": "cc5a2ccd",
   "metadata": {
    "execution": {
     "iopub.execute_input": "2022-02-11T10:09:53.044857Z",
     "iopub.status.busy": "2022-02-11T10:09:53.044290Z",
     "iopub.status.idle": "2022-02-11T10:10:23.226403Z",
     "shell.execute_reply": "2022-02-11T10:10:23.225764Z",
     "shell.execute_reply.started": "2022-02-11T10:08:25.896962Z"
    },
    "papermill": {
     "duration": 30.194702,
     "end_time": "2022-02-11T10:10:23.226552",
     "exception": false,
     "start_time": "2022-02-11T10:09:53.031850",
     "status": "completed"
    },
    "tags": []
   },
   "outputs": [],
   "source": [
    "for i in range(len(lab_list)):\n",
    "    img = np.array(img_list[i]).astype(np.uint8)\n",
    "    lbl = lab_list[i]\n",
    "    lbl = str(lbl)\n",
    "    if not os.path.exists(\"../output/dataset224/train/\"+lbl):\n",
    "        os.makedirs(\"../output/dataset224/train/\"+lbl)\n",
    "    im = Image.fromarray(img)\n",
    "    im.save(\"../output/dataset224/train/\"+lbl+\"/\"+str(i)+\".jpeg\")"
   ]
  },
  {
   "cell_type": "code",
   "execution_count": 8,
   "id": "c68261c2",
   "metadata": {
    "execution": {
     "iopub.execute_input": "2022-02-11T10:10:23.254190Z",
     "iopub.status.busy": "2022-02-11T10:10:23.253551Z",
     "iopub.status.idle": "2022-02-11T10:10:26.656540Z",
     "shell.execute_reply": "2022-02-11T10:10:26.655896Z",
     "shell.execute_reply.started": "2022-02-11T09:45:55.262864Z"
    },
    "papermill": {
     "duration": 3.419109,
     "end_time": "2022-02-11T10:10:26.656689",
     "exception": false,
     "start_time": "2022-02-11T10:10:23.237580",
     "status": "completed"
    },
    "tags": []
   },
   "outputs": [],
   "source": [
    "dataset = get_validation_dataset()\n",
    "val_images = []\n",
    "val_labels = []\n",
    "\n",
    "for img, lbl in dataset:\n",
    "    val_images.append(img)\n",
    "    val_labels.append(lbl)"
   ]
  },
  {
   "cell_type": "code",
   "execution_count": 9,
   "id": "f1a5ded7",
   "metadata": {
    "execution": {
     "iopub.execute_input": "2022-02-11T10:10:26.681301Z",
     "iopub.status.busy": "2022-02-11T10:10:26.680723Z",
     "iopub.status.idle": "2022-02-11T10:10:27.159119Z",
     "shell.execute_reply": "2022-02-11T10:10:27.158551Z",
     "shell.execute_reply.started": "2022-02-11T09:46:08.388415Z"
    },
    "papermill": {
     "duration": 0.491969,
     "end_time": "2022-02-11T10:10:27.159262",
     "exception": false,
     "start_time": "2022-02-11T10:10:26.667293",
     "status": "completed"
    },
    "tags": []
   },
   "outputs": [],
   "source": [
    "val_img_list=[]\n",
    "for i in range(val_images.__len__()):\n",
    "    for j in range(val_images[i].__len__()):\n",
    "        img_list.append(val_images[i][j,:,:,:])\n",
    "        \n",
    "val_lab_list = list()\n",
    "for label in val_labels:\n",
    "    x = label.numpy().tolist()\n",
    "    val_lab_list+=x"
   ]
  },
  {
   "cell_type": "code",
   "execution_count": 10,
   "id": "12627f74",
   "metadata": {
    "execution": {
     "iopub.execute_input": "2022-02-11T10:10:27.186274Z",
     "iopub.status.busy": "2022-02-11T10:10:27.185359Z",
     "iopub.status.idle": "2022-02-11T10:10:57.167607Z",
     "shell.execute_reply": "2022-02-11T10:10:57.166927Z",
     "shell.execute_reply.started": "2022-02-11T09:56:01.157300Z"
    },
    "papermill": {
     "duration": 29.997996,
     "end_time": "2022-02-11T10:10:57.167792",
     "exception": false,
     "start_time": "2022-02-11T10:10:27.169796",
     "status": "completed"
    },
    "tags": []
   },
   "outputs": [],
   "source": [
    "for i in range(len(lab_list)):\n",
    "    img = np.array(img_list[i]).astype(np.uint8)\n",
    "    lbl = lab_list[i]\n",
    "    lbl = str(lbl)\n",
    "    if not os.path.exists(\"./kaggle/working/dataset224/val/\"+lbl):\n",
    "        os.makedirs(\"./kaggle/working/dataset224/val/\"+lbl)\n",
    "    im = Image.fromarray(img)\n",
    "    im.save(\"./kaggle/working/dataset224/val/\"+lbl+\"/\"+str(i)+\".jpeg\")"
   ]
  },
  {
   "cell_type": "code",
   "execution_count": null,
   "id": "5cfaa390",
   "metadata": {
    "papermill": {
     "duration": 0.010316,
     "end_time": "2022-02-11T10:10:57.188924",
     "exception": false,
     "start_time": "2022-02-11T10:10:57.178608",
     "status": "completed"
    },
    "tags": []
   },
   "outputs": [],
   "source": []
  }
 ],
 "metadata": {
  "kernelspec": {
   "display_name": "Python 3",
   "language": "python",
   "name": "python3"
  },
  "language_info": {
   "codemirror_mode": {
    "name": "ipython",
    "version": 3
   },
   "file_extension": ".py",
   "mimetype": "text/x-python",
   "name": "python",
   "nbconvert_exporter": "python",
   "pygments_lexer": "ipython3",
   "version": "3.7.12"
  },
  "papermill": {
   "default_parameters": {},
   "duration": 92.935094,
   "end_time": "2022-02-11T10:11:00.750216",
   "environment_variables": {},
   "exception": null,
   "input_path": "__notebook__.ipynb",
   "output_path": "__notebook__.ipynb",
   "parameters": {},
   "start_time": "2022-02-11T10:09:27.815122",
   "version": "2.3.3"
  }
 },
 "nbformat": 4,
 "nbformat_minor": 5
}
