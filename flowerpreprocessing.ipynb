{
 "cells": [
  {
   "cell_type": "markdown",
   "id": "62cd978d",
   "metadata": {
    "papermill": {
     "duration": 0.01312,
     "end_time": "2022-02-11T18:42:01.473559",
     "exception": false,
     "start_time": "2022-02-11T18:42:01.460439",
     "status": "completed"
    },
    "tags": []
   },
   "source": [
    "\n",
    "# Preprocessing\n",
    "\n",
    "The data is in a tfrec format which is suitable to be used with a TPU. The data will be changed to .jpeg format to be usaed on a GPU."
   ]
  },
  {
   "cell_type": "code",
   "execution_count": 1,
   "id": "908a60df",
   "metadata": {
    "execution": {
     "iopub.execute_input": "2022-02-11T18:42:01.508605Z",
     "iopub.status.busy": "2022-02-11T18:42:01.507598Z",
     "iopub.status.idle": "2022-02-11T18:42:08.881173Z",
     "shell.execute_reply": "2022-02-11T18:42:08.880438Z",
     "shell.execute_reply.started": "2022-02-11T10:48:13.659986Z"
    },
    "papermill": {
     "duration": 7.394776,
     "end_time": "2022-02-11T18:42:08.881340",
     "exception": false,
     "start_time": "2022-02-11T18:42:01.486564",
     "status": "completed"
    },
    "tags": []
   },
   "outputs": [],
   "source": [
    "#Import libraries\n",
    "import torch \n",
    "import torchvision\n",
    "import torch.utils.data\n",
    "import torchvision.transforms as transforms\n",
    "import torchvision.datasets as datasets\n",
    "from torch import nn, optim\n",
    "import numpy as np\n",
    "import matplotlib.pyplot as plt\n",
    "import time\n",
    "import os\n",
    "import glob\n",
    "import tensorflow as tf\n",
    "AUTO = tf.data.experimental.AUTOTUNE\n",
    "%matplotlib inline"
   ]
  },
  {
   "cell_type": "code",
   "execution_count": 2,
   "id": "153bf86b",
   "metadata": {
    "execution": {
     "iopub.execute_input": "2022-02-11T18:42:08.919420Z",
     "iopub.status.busy": "2022-02-11T18:42:08.918614Z",
     "iopub.status.idle": "2022-02-11T18:42:08.921613Z",
     "shell.execute_reply": "2022-02-11T18:42:08.921116Z",
     "shell.execute_reply.started": "2022-02-11T10:48:20.024038Z"
    },
    "papermill": {
     "duration": 0.028902,
     "end_time": "2022-02-11T18:42:08.921743",
     "exception": false,
     "start_time": "2022-02-11T18:42:08.892841",
     "status": "completed"
    },
    "tags": []
   },
   "outputs": [],
   "source": [
    "def decode_image(image_data):\n",
    "    image = tf.image.decode_jpeg(image_data, channels=3)  # image format uint8 [0,255]\n",
    "    image = tf.reshape(image, [*IMAGE_SIZE, 3]) # explicit size needed for TPU\n",
    "    return image\n",
    "\n",
    "def read_labeled_tfrecord(example):\n",
    "    LABELED_TFREC_FORMAT = {\n",
    "        \"image\": tf.io.FixedLenFeature([], tf.string), # tf.string means bytestring\n",
    "        \"class\": tf.io.FixedLenFeature([], tf.int64),  # shape [] means single element\n",
    "    }\n",
    "    example = tf.io.parse_single_example(example, LABELED_TFREC_FORMAT)\n",
    "    image = decode_image(example['image'])\n",
    "    label = tf.cast(example['class'], tf.int32)\n",
    "    return image, label # returns a dataset of (image, label) pairs\n",
    "\n",
    "def read_unlabeled_tfrecord(example):\n",
    "    UNLABELED_TFREC_FORMAT = {\n",
    "        \"image\": tf.io.FixedLenFeature([], tf.string), # tf.string means bytestring\n",
    "        \"id\": tf.io.FixedLenFeature([], tf.string),  # shape [] means single element\n",
    "        # class is missing, this competitions's challenge is to predict flower classes for the test dataset\n",
    "    }\n",
    "    example = tf.io.parse_single_example(example, UNLABELED_TFREC_FORMAT)\n",
    "    image = decode_image(example['image'])\n",
    "    idnum = example['id']\n",
    "    return image, idnum # returns a dataset of image(s)\n",
    "\n",
    "def load_dataset(filenames, labeled=True, ordered=False):\n",
    "    # Read from TFRecords. For optimal performance, reading from multiple files at once and\n",
    "    # disregarding data order. Order does not matter since we will be shuffling the data anyway.\n",
    "\n",
    "    ignore_order = tf.data.Options()\n",
    "    if not ordered:\n",
    "        ignore_order.experimental_deterministic = False # disable order, increase speed\n",
    "\n",
    "    dataset = tf.data.TFRecordDataset(filenames) # automatically interleaves reads from multiple files\n",
    "    dataset = dataset.with_options(ignore_order) # uses data as soon as it streams in, rather than in its original order\n",
    "    dataset = dataset.map(read_labeled_tfrecord if labeled else read_unlabeled_tfrecord)\n",
    "    # returns a dataset of (image, label) pairs if labeled=True or (image, id) pairs if labeled=False\n",
    "    return dataset\n",
    "\n",
    "def data_augment(image, label):\n",
    "    # data augmentation. Thanks to the dataset.prefetch(AUTO) statement in the next function (below),\n",
    "    # this happens essentially for free on TPU. Data pipeline code is executed on the \"CPU\" part\n",
    "    # of the TPU while the TPU itself is computing gradients.\n",
    "    image = tf.image.random_flip_left_right(image)\n",
    "    #image = tf.image.random_saturation(image, 0, 2)\n",
    "    return image, label   \n",
    "\n",
    "def get_training_dataset():\n",
    "    dataset = load_dataset(TRAINING_FILENAMES, labeled=True)\n",
    "    #dataset = dataset.map(data_augment)\n",
    "    #dataset = dataset.repeat() # the training dataset must repeat for several epochs\n",
    "    #dataset = dataset.shuffle(2048)\n",
    "    dataset = dataset.batch(BATCH_SIZE)\n",
    "    dataset = dataset.prefetch(AUTO) # prefetch next batch while training (autotune prefetch buffer size)\n",
    "    return dataset\n",
    "\n",
    "def get_validation_dataset(ordered=False):\n",
    "    dataset = load_dataset(VALIDATION_FILENAMES, labeled=True, ordered=ordered)\n",
    "    dataset = dataset.batch(BATCH_SIZE)\n",
    "    dataset = dataset.cache()\n",
    "    dataset = dataset.prefetch(AUTO) # prefetch next batch while training (autotune prefetch buffer size)\n",
    "    return dataset\n",
    "\n",
    "def get_test_dataset(ordered=False):\n",
    "    dataset = load_dataset(TEST_FILENAMES, labeled=False, ordered=ordered)\n",
    "    dataset = dataset.batch(BATCH_SIZE)\n",
    "    dataset = dataset.prefetch(AUTO) # prefetch next batch while training (autotune prefetch buffer size)\n",
    "    return dataset"
   ]
  },
  {
   "cell_type": "code",
   "execution_count": 3,
   "id": "887635a5",
   "metadata": {
    "execution": {
     "iopub.execute_input": "2022-02-11T18:42:08.948574Z",
     "iopub.status.busy": "2022-02-11T18:42:08.947913Z",
     "iopub.status.idle": "2022-02-11T18:42:08.985784Z",
     "shell.execute_reply": "2022-02-11T18:42:08.985194Z",
     "shell.execute_reply.started": "2022-02-11T10:48:20.039071Z"
    },
    "papermill": {
     "duration": 0.052551,
     "end_time": "2022-02-11T18:42:08.985926",
     "exception": false,
     "start_time": "2022-02-11T18:42:08.933375",
     "status": "completed"
    },
    "tags": []
   },
   "outputs": [],
   "source": [
    "IMAGE_SIZE = [224, 224]\n",
    "BATCH_SIZE = 16 \n",
    "\n",
    "PATH_SELECT = { # available image sizes\n",
    "    192: '../input/dataset' + '/tfrecords-jpeg-192x192',\n",
    "    224: '../input/dataset' + '/tfrecords-jpeg-224x224',\n",
    "    331: '../input/dataset' + '/tfrecords-jpeg-331x331',\n",
    "    512: '../input/dataset' + '/tfrecords-jpeg-512x512'\n",
    "}\n",
    "\n",
    "PATH = PATH_SELECT[224]\n",
    "\n",
    "TRAINING_FILENAMES = tf.io.gfile.glob(PATH + '/train/*.tfrec')\n",
    "VALIDATION_FILENAMES = tf.io.gfile.glob(PATH + '/val/*.tfrec')\n",
    "TEST_FILENAMES = tf.io.gfile.glob(PATH + '/test/*.tfrec')"
   ]
  },
  {
   "cell_type": "code",
   "execution_count": 4,
   "id": "1176c201",
   "metadata": {
    "execution": {
     "iopub.execute_input": "2022-02-11T18:42:09.034065Z",
     "iopub.status.busy": "2022-02-11T18:42:09.033359Z",
     "iopub.status.idle": "2022-02-11T18:42:19.051868Z",
     "shell.execute_reply": "2022-02-11T18:42:19.051140Z",
     "shell.execute_reply.started": "2022-02-11T10:48:20.062861Z"
    },
    "papermill": {
     "duration": 10.054457,
     "end_time": "2022-02-11T18:42:19.052004",
     "exception": false,
     "start_time": "2022-02-11T18:42:08.997547",
     "status": "completed"
    },
    "tags": []
   },
   "outputs": [
    {
     "name": "stderr",
     "output_type": "stream",
     "text": [
      "2022-02-11 18:42:09.029803: I tensorflow/core/common_runtime/process_util.cc:146] Creating new thread pool with default inter op setting: 2. Tune using inter_op_parallelism_threads for best performance.\n",
      "2022-02-11 18:42:09.261850: I tensorflow/compiler/mlir/mlir_graph_optimization_pass.cc:185] None of the MLIR Optimization Passes are enabled (registered 2)\n"
     ]
    }
   ],
   "source": [
    "dataset = get_training_dataset()\n",
    "images = []\n",
    "labels = []\n",
    "\n",
    "for img, lbl in dataset:\n",
    "    images.append(img)\n",
    "    labels.append(lbl)"
   ]
  },
  {
   "cell_type": "code",
   "execution_count": 5,
   "id": "10e974eb",
   "metadata": {
    "execution": {
     "iopub.execute_input": "2022-02-11T18:42:19.080499Z",
     "iopub.status.busy": "2022-02-11T18:42:19.079862Z",
     "iopub.status.idle": "2022-02-11T18:42:20.815775Z",
     "shell.execute_reply": "2022-02-11T18:42:20.815201Z",
     "shell.execute_reply.started": "2022-02-11T10:48:28.601861Z"
    },
    "papermill": {
     "duration": 1.750752,
     "end_time": "2022-02-11T18:42:20.815916",
     "exception": false,
     "start_time": "2022-02-11T18:42:19.065164",
     "status": "completed"
    },
    "tags": []
   },
   "outputs": [],
   "source": [
    "img_list=[]\n",
    "for i in range(images.__len__()):\n",
    "    for j in range(images[i].__len__()):\n",
    "        img_list.append(images[i][j,:,:,:])\n",
    "        \n",
    "lab_list = list()\n",
    "for label in labels:\n",
    "    x = label.numpy().tolist()\n",
    "    lab_list+=x"
   ]
  },
  {
   "cell_type": "code",
   "execution_count": 6,
   "id": "39a76b22",
   "metadata": {
    "execution": {
     "iopub.execute_input": "2022-02-11T18:42:20.845629Z",
     "iopub.status.busy": "2022-02-11T18:42:20.844947Z",
     "iopub.status.idle": "2022-02-11T18:42:20.847541Z",
     "shell.execute_reply": "2022-02-11T18:42:20.848108Z",
     "shell.execute_reply.started": "2022-02-11T10:48:30.190220Z"
    },
    "papermill": {
     "duration": 0.019982,
     "end_time": "2022-02-11T18:42:20.848275",
     "exception": false,
     "start_time": "2022-02-11T18:42:20.828293",
     "status": "completed"
    },
    "tags": []
   },
   "outputs": [],
   "source": [
    "import os\n",
    "from PIL import Image"
   ]
  },
  {
   "cell_type": "code",
   "execution_count": 7,
   "id": "b7f44edf",
   "metadata": {
    "execution": {
     "iopub.execute_input": "2022-02-11T18:42:20.876202Z",
     "iopub.status.busy": "2022-02-11T18:42:20.875515Z",
     "iopub.status.idle": "2022-02-11T18:42:53.363371Z",
     "shell.execute_reply": "2022-02-11T18:42:53.362764Z",
     "shell.execute_reply.started": "2022-02-11T10:48:30.196136Z"
    },
    "papermill": {
     "duration": 32.503209,
     "end_time": "2022-02-11T18:42:53.363545",
     "exception": false,
     "start_time": "2022-02-11T18:42:20.860336",
     "status": "completed"
    },
    "tags": []
   },
   "outputs": [],
   "source": [
    "for i in range(len(lab_list)):\n",
    "    img = np.array(img_list[i]).astype(np.uint8)\n",
    "    lbl = lab_list[i]\n",
    "    lbl = str(lbl)\n",
    "    if not os.path.exists(\"../output/kaggle/working/dataset224/train/\"+lbl):\n",
    "        os.makedirs(\"../output/kaggle/working/dataset224/train/\"+lbl)\n",
    "    im = Image.fromarray(img)\n",
    "    im.save(\"../output/kaggle/working/dataset224/train/\"+lbl+\"/\"+str(i)+\".jpeg\")"
   ]
  },
  {
   "cell_type": "code",
   "execution_count": 8,
   "id": "3edc8a39",
   "metadata": {
    "execution": {
     "iopub.execute_input": "2022-02-11T18:42:53.396343Z",
     "iopub.status.busy": "2022-02-11T18:42:53.395366Z",
     "iopub.status.idle": "2022-02-11T18:42:57.431136Z",
     "shell.execute_reply": "2022-02-11T18:42:57.430075Z",
     "shell.execute_reply.started": "2022-02-11T10:49:12.452417Z"
    },
    "papermill": {
     "duration": 4.054826,
     "end_time": "2022-02-11T18:42:57.431299",
     "exception": false,
     "start_time": "2022-02-11T18:42:53.376473",
     "status": "completed"
    },
    "tags": []
   },
   "outputs": [],
   "source": [
    "dataset = get_validation_dataset()\n",
    "val_images = []\n",
    "val_labels = []\n",
    "\n",
    "for img, lbl in dataset:\n",
    "    val_images.append(img)\n",
    "    val_labels.append(lbl)"
   ]
  },
  {
   "cell_type": "code",
   "execution_count": 9,
   "id": "b7f6c894",
   "metadata": {
    "execution": {
     "iopub.execute_input": "2022-02-11T18:42:57.463296Z",
     "iopub.status.busy": "2022-02-11T18:42:57.462620Z",
     "iopub.status.idle": "2022-02-11T18:42:57.980204Z",
     "shell.execute_reply": "2022-02-11T18:42:57.979476Z",
     "shell.execute_reply.started": "2022-02-11T10:49:15.616147Z"
    },
    "papermill": {
     "duration": 0.536774,
     "end_time": "2022-02-11T18:42:57.980355",
     "exception": false,
     "start_time": "2022-02-11T18:42:57.443581",
     "status": "completed"
    },
    "tags": []
   },
   "outputs": [],
   "source": [
    "val_img_list=[]\n",
    "for i in range(val_images.__len__()):\n",
    "    for j in range(val_images[i].__len__()):\n",
    "        img_list.append(val_images[i][j,:,:,:])\n",
    "        \n",
    "val_lab_list = list()\n",
    "for label in val_labels:\n",
    "    x = label.numpy().tolist()\n",
    "    val_lab_list+=x"
   ]
  },
  {
   "cell_type": "code",
   "execution_count": 10,
   "id": "e40a5673",
   "metadata": {
    "execution": {
     "iopub.execute_input": "2022-02-11T18:42:58.017194Z",
     "iopub.status.busy": "2022-02-11T18:42:58.016423Z",
     "iopub.status.idle": "2022-02-11T18:43:30.540268Z",
     "shell.execute_reply": "2022-02-11T18:43:30.539671Z",
     "shell.execute_reply.started": "2022-02-11T10:49:48.880358Z"
    },
    "papermill": {
     "duration": 32.545694,
     "end_time": "2022-02-11T18:43:30.540480",
     "exception": false,
     "start_time": "2022-02-11T18:42:57.994786",
     "status": "completed"
    },
    "tags": []
   },
   "outputs": [],
   "source": [
    "for i in range(len(lab_list)):\n",
    "    img = np.array(img_list[i]).astype(np.uint8)\n",
    "    lbl = lab_list[i]\n",
    "    lbl = str(lbl)\n",
    "    if not os.path.exists(\"../output/kaggle/working/dataset224/val/\"+lbl):\n",
    "        os.makedirs(\"../output/kaggle/working/dataset224/val/\"+lbl)\n",
    "    im = Image.fromarray(img)\n",
    "    im.save(\"../output/kaggle/working/dataset224/val/\"+lbl+\"/\"+str(i)+\".jpeg\")"
   ]
  },
  {
   "cell_type": "code",
   "execution_count": 11,
   "id": "3f272b0a",
   "metadata": {
    "execution": {
     "iopub.execute_input": "2022-02-11T18:43:30.572698Z",
     "iopub.status.busy": "2022-02-11T18:43:30.572067Z",
     "iopub.status.idle": "2022-02-11T18:43:30.575550Z",
     "shell.execute_reply": "2022-02-11T18:43:30.574952Z",
     "shell.execute_reply.started": "2022-02-11T10:54:48.766128Z"
    },
    "papermill": {
     "duration": 0.022282,
     "end_time": "2022-02-11T18:43:30.575701",
     "exception": false,
     "start_time": "2022-02-11T18:43:30.553419",
     "status": "completed"
    },
    "tags": []
   },
   "outputs": [],
   "source": [
    "def load_data(root_path, dir, batch_size):\n",
    "    transform_dict = {'norm' : transforms.Compose([transforms.ToTensor(), transforms.Normalize((0.5), (0.5))])}\n",
    "    \n",
    "    data = datasets.ImageFolder(root=root_path + dir, transform=transform_dict['norm'])\n",
    "    \n",
    "    data_loader = torch.utils.data.DataLoader(data, batch_size=batch_size, shuffle=True, num_workers=4)\n",
    "    \n",
    "    return data_loader"
   ]
  },
  {
   "cell_type": "code",
   "execution_count": 12,
   "id": "dbcb6f0b",
   "metadata": {
    "execution": {
     "iopub.execute_input": "2022-02-11T18:43:30.604755Z",
     "iopub.status.busy": "2022-02-11T18:43:30.602744Z",
     "iopub.status.idle": "2022-02-11T18:43:30.737934Z",
     "shell.execute_reply": "2022-02-11T18:43:30.738455Z",
     "shell.execute_reply.started": "2022-02-11T10:55:13.103784Z"
    },
    "papermill": {
     "duration": 0.150455,
     "end_time": "2022-02-11T18:43:30.738706",
     "exception": false,
     "start_time": "2022-02-11T18:43:30.588251",
     "status": "completed"
    },
    "tags": []
   },
   "outputs": [],
   "source": [
    "#define trainloader and test loader\n",
    "trainloader = load_data('../output/kaggle/working/dataset224', '/train', 64)\n",
    "testloader = load_data('../output/kaggle/working/dataset224', '/val', 64)"
   ]
  },
  {
   "cell_type": "code",
   "execution_count": null,
   "id": "cf1091e6",
   "metadata": {
    "papermill": {
     "duration": 0.01522,
     "end_time": "2022-02-11T18:43:30.770063",
     "exception": false,
     "start_time": "2022-02-11T18:43:30.754843",
     "status": "completed"
    },
    "tags": []
   },
   "outputs": [],
   "source": []
  }
 ],
 "metadata": {
  "kernelspec": {
   "display_name": "Python 3",
   "language": "python",
   "name": "python3"
  },
  "language_info": {
   "codemirror_mode": {
    "name": "ipython",
    "version": 3
   },
   "file_extension": ".py",
   "mimetype": "text/x-python",
   "name": "python",
   "nbconvert_exporter": "python",
   "pygments_lexer": "ipython3",
   "version": "3.7.12"
  },
  "papermill": {
   "default_parameters": {},
   "duration": 102.741934,
   "end_time": "2022-02-11T18:43:33.786124",
   "environment_variables": {},
   "exception": null,
   "input_path": "__notebook__.ipynb",
   "output_path": "__notebook__.ipynb",
   "parameters": {},
   "start_time": "2022-02-11T18:41:51.044190",
   "version": "2.3.3"
  }
 },
 "nbformat": 4,
 "nbformat_minor": 5
}
