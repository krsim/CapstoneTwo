{
 "cells": [
  {
   "cell_type": "markdown",
   "id": "6eb2f4a2",
   "metadata": {
    "papermill": {
     "duration": 0.014279,
     "end_time": "2022-02-11T09:59:46.949546",
     "exception": false,
     "start_time": "2022-02-11T09:59:46.935267",
     "status": "completed"
    },
    "tags": []
   },
   "source": [
    "\n",
    "# Preprocessing\n",
    "\n",
    "The data is in a tfrec format which is suitable to be used with a TPU. The data will be changed to .jpeg format to be usaed on a GPU."
   ]
  },
  {
   "cell_type": "code",
   "execution_count": 1,
   "id": "1a2fadfa",
   "metadata": {
    "execution": {
     "iopub.execute_input": "2022-02-11T09:59:46.981621Z",
     "iopub.status.busy": "2022-02-11T09:59:46.980423Z",
     "iopub.status.idle": "2022-02-11T09:59:53.669006Z",
     "shell.execute_reply": "2022-02-11T09:59:53.668320Z",
     "shell.execute_reply.started": "2022-02-11T09:42:02.153707Z"
    },
    "papermill": {
     "duration": 6.706151,
     "end_time": "2022-02-11T09:59:53.669186",
     "exception": false,
     "start_time": "2022-02-11T09:59:46.963035",
     "status": "completed"
    },
    "tags": []
   },
   "outputs": [],
   "source": [
    "#Import libraries\n",
    "import torch \n",
    "import torchvision\n",
    "import torch.utils.data\n",
    "import torchvision.transforms as transforms\n",
    "import torchvision.datasets as datasets\n",
    "from torch import nn, optim\n",
    "import numpy as np\n",
    "import matplotlib.pyplot as plt\n",
    "import time\n",
    "import os\n",
    "import glob\n",
    "import tensorflow as tf\n",
    "AUTO = tf.data.experimental.AUTOTUNE\n",
    "%matplotlib inline"
   ]
  },
  {
   "cell_type": "code",
   "execution_count": 2,
   "id": "92845f9e",
   "metadata": {
    "execution": {
     "iopub.execute_input": "2022-02-11T09:59:53.713390Z",
     "iopub.status.busy": "2022-02-11T09:59:53.712640Z",
     "iopub.status.idle": "2022-02-11T09:59:53.715283Z",
     "shell.execute_reply": "2022-02-11T09:59:53.714767Z",
     "shell.execute_reply.started": "2022-02-11T09:42:03.394351Z"
    },
    "papermill": {
     "duration": 0.033077,
     "end_time": "2022-02-11T09:59:53.715430",
     "exception": false,
     "start_time": "2022-02-11T09:59:53.682353",
     "status": "completed"
    },
    "tags": []
   },
   "outputs": [],
   "source": [
    "def decode_image(image_data):\n",
    "    image = tf.image.decode_jpeg(image_data, channels=3)  # image format uint8 [0,255]\n",
    "    image = tf.reshape(image, [*IMAGE_SIZE, 3]) # explicit size needed for TPU\n",
    "    return image\n",
    "\n",
    "def read_labeled_tfrecord(example):\n",
    "    LABELED_TFREC_FORMAT = {\n",
    "        \"image\": tf.io.FixedLenFeature([], tf.string), # tf.string means bytestring\n",
    "        \"class\": tf.io.FixedLenFeature([], tf.int64),  # shape [] means single element\n",
    "    }\n",
    "    example = tf.io.parse_single_example(example, LABELED_TFREC_FORMAT)\n",
    "    image = decode_image(example['image'])\n",
    "    label = tf.cast(example['class'], tf.int32)\n",
    "    return image, label # returns a dataset of (image, label) pairs\n",
    "\n",
    "def read_unlabeled_tfrecord(example):\n",
    "    UNLABELED_TFREC_FORMAT = {\n",
    "        \"image\": tf.io.FixedLenFeature([], tf.string), # tf.string means bytestring\n",
    "        \"id\": tf.io.FixedLenFeature([], tf.string),  # shape [] means single element\n",
    "        # class is missing, this competitions's challenge is to predict flower classes for the test dataset\n",
    "    }\n",
    "    example = tf.io.parse_single_example(example, UNLABELED_TFREC_FORMAT)\n",
    "    image = decode_image(example['image'])\n",
    "    idnum = example['id']\n",
    "    return image, idnum # returns a dataset of image(s)\n",
    "\n",
    "def load_dataset(filenames, labeled=True, ordered=False):\n",
    "    # Read from TFRecords. For optimal performance, reading from multiple files at once and\n",
    "    # disregarding data order. Order does not matter since we will be shuffling the data anyway.\n",
    "\n",
    "    ignore_order = tf.data.Options()\n",
    "    if not ordered:\n",
    "        ignore_order.experimental_deterministic = False # disable order, increase speed\n",
    "\n",
    "    dataset = tf.data.TFRecordDataset(filenames) # automatically interleaves reads from multiple files\n",
    "    dataset = dataset.with_options(ignore_order) # uses data as soon as it streams in, rather than in its original order\n",
    "    dataset = dataset.map(read_labeled_tfrecord if labeled else read_unlabeled_tfrecord)\n",
    "    # returns a dataset of (image, label) pairs if labeled=True or (image, id) pairs if labeled=False\n",
    "    return dataset\n",
    "\n",
    "def data_augment(image, label):\n",
    "    # data augmentation. Thanks to the dataset.prefetch(AUTO) statement in the next function (below),\n",
    "    # this happens essentially for free on TPU. Data pipeline code is executed on the \"CPU\" part\n",
    "    # of the TPU while the TPU itself is computing gradients.\n",
    "    image = tf.image.random_flip_left_right(image)\n",
    "    #image = tf.image.random_saturation(image, 0, 2)\n",
    "    return image, label   \n",
    "\n",
    "def get_training_dataset():\n",
    "    dataset = load_dataset(TRAINING_FILENAMES, labeled=True)\n",
    "    #dataset = dataset.map(data_augment)\n",
    "    #dataset = dataset.repeat() # the training dataset must repeat for several epochs\n",
    "    #dataset = dataset.shuffle(2048)\n",
    "    dataset = dataset.batch(BATCH_SIZE)\n",
    "    dataset = dataset.prefetch(AUTO) # prefetch next batch while training (autotune prefetch buffer size)\n",
    "    return dataset\n",
    "\n",
    "def get_validation_dataset(ordered=False):\n",
    "    dataset = load_dataset(VALIDATION_FILENAMES, labeled=True, ordered=ordered)\n",
    "    dataset = dataset.batch(BATCH_SIZE)\n",
    "    dataset = dataset.cache()\n",
    "    dataset = dataset.prefetch(AUTO) # prefetch next batch while training (autotune prefetch buffer size)\n",
    "    return dataset\n",
    "\n",
    "def get_test_dataset(ordered=False):\n",
    "    dataset = load_dataset(TEST_FILENAMES, labeled=False, ordered=ordered)\n",
    "    dataset = dataset.batch(BATCH_SIZE)\n",
    "    dataset = dataset.prefetch(AUTO) # prefetch next batch while training (autotune prefetch buffer size)\n",
    "    return dataset"
   ]
  },
  {
   "cell_type": "code",
   "execution_count": 3,
   "id": "4d25c604",
   "metadata": {
    "execution": {
     "iopub.execute_input": "2022-02-11T09:59:53.748259Z",
     "iopub.status.busy": "2022-02-11T09:59:53.747558Z",
     "iopub.status.idle": "2022-02-11T09:59:53.777170Z",
     "shell.execute_reply": "2022-02-11T09:59:53.776441Z",
     "shell.execute_reply.started": "2022-02-11T09:44:10.233545Z"
    },
    "papermill": {
     "duration": 0.048987,
     "end_time": "2022-02-11T09:59:53.777326",
     "exception": false,
     "start_time": "2022-02-11T09:59:53.728339",
     "status": "completed"
    },
    "tags": []
   },
   "outputs": [],
   "source": [
    "IMAGE_SIZE = [224, 224]\n",
    "BATCH_SIZE = 16 \n",
    "\n",
    "PATH_SELECT = { # available image sizes\n",
    "    192: '../input/dataset' + '/tfrecords-jpeg-192x192',\n",
    "    224: '../input/dataset' + '/tfrecords-jpeg-224x224',\n",
    "    331: '../input/dataset' + '/tfrecords-jpeg-331x331',\n",
    "    512: '../input/dataset' + '/tfrecords-jpeg-512x512'\n",
    "}\n",
    "\n",
    "PATH = PATH_SELECT[224]\n",
    "\n",
    "TRAINING_FILENAMES = tf.io.gfile.glob(PATH + '/train/*.tfrec')\n",
    "VALIDATION_FILENAMES = tf.io.gfile.glob(PATH + '/val/*.tfrec')\n",
    "TEST_FILENAMES = tf.io.gfile.glob(PATH + '/test/*.tfrec')"
   ]
  },
  {
   "cell_type": "code",
   "execution_count": 4,
   "id": "78769b29",
   "metadata": {
    "execution": {
     "iopub.execute_input": "2022-02-11T09:59:53.815121Z",
     "iopub.status.busy": "2022-02-11T09:59:53.814440Z",
     "iopub.status.idle": "2022-02-11T10:00:01.258106Z",
     "shell.execute_reply": "2022-02-11T10:00:01.257382Z",
     "shell.execute_reply.started": "2022-02-11T09:44:11.190805Z"
    },
    "papermill": {
     "duration": 7.467913,
     "end_time": "2022-02-11T10:00:01.258248",
     "exception": false,
     "start_time": "2022-02-11T09:59:53.790335",
     "status": "completed"
    },
    "tags": []
   },
   "outputs": [
    {
     "name": "stderr",
     "output_type": "stream",
     "text": [
      "2022-02-11 09:59:53.822271: I tensorflow/core/common_runtime/process_util.cc:146] Creating new thread pool with default inter op setting: 2. Tune using inter_op_parallelism_threads for best performance.\n",
      "2022-02-11 09:59:54.064369: I tensorflow/compiler/mlir/mlir_graph_optimization_pass.cc:185] None of the MLIR Optimization Passes are enabled (registered 2)\n"
     ]
    }
   ],
   "source": [
    "dataset = get_training_dataset()\n",
    "images = []\n",
    "labels = []\n",
    "\n",
    "for img, lbl in dataset:\n",
    "    images.append(img)\n",
    "    labels.append(lbl)"
   ]
  },
  {
   "cell_type": "code",
   "execution_count": 5,
   "id": "0f80c8b2",
   "metadata": {
    "execution": {
     "iopub.execute_input": "2022-02-11T10:00:01.292914Z",
     "iopub.status.busy": "2022-02-11T10:00:01.292218Z",
     "iopub.status.idle": "2022-02-11T10:00:03.049285Z",
     "shell.execute_reply": "2022-02-11T10:00:03.048584Z",
     "shell.execute_reply.started": "2022-02-11T09:44:23.327028Z"
    },
    "papermill": {
     "duration": 1.777007,
     "end_time": "2022-02-11T10:00:03.049436",
     "exception": false,
     "start_time": "2022-02-11T10:00:01.272429",
     "status": "completed"
    },
    "tags": []
   },
   "outputs": [],
   "source": [
    "img_list=[]\n",
    "for i in range(images.__len__()):\n",
    "    for j in range(images[i].__len__()):\n",
    "        img_list.append(images[i][j,:,:,:])\n",
    "        \n",
    "lab_list = list()\n",
    "for label in labels:\n",
    "    x = label.numpy().tolist()\n",
    "    lab_list+=x"
   ]
  },
  {
   "cell_type": "code",
   "execution_count": 6,
   "id": "c34f0daa",
   "metadata": {
    "execution": {
     "iopub.execute_input": "2022-02-11T10:00:03.083300Z",
     "iopub.status.busy": "2022-02-11T10:00:03.082187Z",
     "iopub.status.idle": "2022-02-11T10:00:03.084089Z",
     "shell.execute_reply": "2022-02-11T10:00:03.084570Z",
     "shell.execute_reply.started": "2022-02-11T09:44:28.226525Z"
    },
    "papermill": {
     "duration": 0.021505,
     "end_time": "2022-02-11T10:00:03.084739",
     "exception": false,
     "start_time": "2022-02-11T10:00:03.063234",
     "status": "completed"
    },
    "tags": []
   },
   "outputs": [],
   "source": [
    "import os\n",
    "from PIL import Image"
   ]
  },
  {
   "cell_type": "code",
   "execution_count": 7,
   "id": "2f38b04d",
   "metadata": {
    "execution": {
     "iopub.execute_input": "2022-02-11T10:00:03.115967Z",
     "iopub.status.busy": "2022-02-11T10:00:03.115000Z",
     "iopub.status.idle": "2022-02-11T10:00:33.329035Z",
     "shell.execute_reply": "2022-02-11T10:00:33.329551Z",
     "shell.execute_reply.started": "2022-02-11T09:53:48.293037Z"
    },
    "papermill": {
     "duration": 30.231406,
     "end_time": "2022-02-11T10:00:33.329789",
     "exception": false,
     "start_time": "2022-02-11T10:00:03.098383",
     "status": "completed"
    },
    "tags": []
   },
   "outputs": [],
   "source": [
    "for i in range(len(lab_list)):\n",
    "    img = np.array(img_list[i]).astype(np.uint8)\n",
    "    lbl = lab_list[i]\n",
    "    lbl = str(lbl)\n",
    "    if not os.path.exists(\"./kaggle/working/dataset224/train/\"+lbl):\n",
    "        os.makedirs(\"./kaggle/working/dataset224/train/\"+lbl)\n",
    "    im = Image.fromarray(img)\n",
    "    im.save(\"./kaggle/working/dataset224/train/\"+lbl+\"/\"+str(i)+\".jpeg\")"
   ]
  },
  {
   "cell_type": "code",
   "execution_count": 8,
   "id": "1d50ba54",
   "metadata": {
    "execution": {
     "iopub.execute_input": "2022-02-11T10:00:33.360940Z",
     "iopub.status.busy": "2022-02-11T10:00:33.360196Z",
     "iopub.status.idle": "2022-02-11T10:00:35.730912Z",
     "shell.execute_reply": "2022-02-11T10:00:35.730212Z",
     "shell.execute_reply.started": "2022-02-11T09:45:55.262864Z"
    },
    "papermill": {
     "duration": 2.387185,
     "end_time": "2022-02-11T10:00:35.731088",
     "exception": false,
     "start_time": "2022-02-11T10:00:33.343903",
     "status": "completed"
    },
    "tags": []
   },
   "outputs": [],
   "source": [
    "dataset = get_validation_dataset()\n",
    "val_images = []\n",
    "val_labels = []\n",
    "\n",
    "for img, lbl in dataset:\n",
    "    val_images.append(img)\n",
    "    val_labels.append(lbl)"
   ]
  },
  {
   "cell_type": "code",
   "execution_count": 9,
   "id": "d1ab9b21",
   "metadata": {
    "execution": {
     "iopub.execute_input": "2022-02-11T10:00:35.766460Z",
     "iopub.status.busy": "2022-02-11T10:00:35.765780Z",
     "iopub.status.idle": "2022-02-11T10:00:36.271132Z",
     "shell.execute_reply": "2022-02-11T10:00:36.270535Z",
     "shell.execute_reply.started": "2022-02-11T09:46:08.388415Z"
    },
    "papermill": {
     "duration": 0.525979,
     "end_time": "2022-02-11T10:00:36.271286",
     "exception": false,
     "start_time": "2022-02-11T10:00:35.745307",
     "status": "completed"
    },
    "tags": []
   },
   "outputs": [],
   "source": [
    "val_img_list=[]\n",
    "for i in range(val_images.__len__()):\n",
    "    for j in range(val_images[i].__len__()):\n",
    "        img_list.append(val_images[i][j,:,:,:])\n",
    "        \n",
    "val_lab_list = list()\n",
    "for label in val_labels:\n",
    "    x = label.numpy().tolist()\n",
    "    val_lab_list+=x"
   ]
  },
  {
   "cell_type": "code",
   "execution_count": 10,
   "id": "2002c66c",
   "metadata": {
    "execution": {
     "iopub.execute_input": "2022-02-11T10:00:36.311765Z",
     "iopub.status.busy": "2022-02-11T10:00:36.310878Z",
     "iopub.status.idle": "2022-02-11T10:01:06.554112Z",
     "shell.execute_reply": "2022-02-11T10:01:06.553440Z",
     "shell.execute_reply.started": "2022-02-11T09:56:01.157300Z"
    },
    "papermill": {
     "duration": 30.268907,
     "end_time": "2022-02-11T10:01:06.554264",
     "exception": false,
     "start_time": "2022-02-11T10:00:36.285357",
     "status": "completed"
    },
    "tags": []
   },
   "outputs": [],
   "source": [
    "for i in range(len(lab_list)):\n",
    "    img = np.array(img_list[i]).astype(np.uint8)\n",
    "    lbl = lab_list[i]\n",
    "    lbl = str(lbl)\n",
    "    if not os.path.exists(\"./kaggle/working/dataset224/val/\"+lbl):\n",
    "        os.makedirs(\"./kaggle/working/dataset224/val/\"+lbl)\n",
    "    im = Image.fromarray(img)\n",
    "    im.save(\"./kaggle/working/dataset224/val/\"+lbl+\"/\"+str(i)+\".jpeg\")"
   ]
  },
  {
   "cell_type": "code",
   "execution_count": null,
   "id": "9c584c16",
   "metadata": {
    "papermill": {
     "duration": 0.01368,
     "end_time": "2022-02-11T10:01:06.582052",
     "exception": false,
     "start_time": "2022-02-11T10:01:06.568372",
     "status": "completed"
    },
    "tags": []
   },
   "outputs": [],
   "source": []
  }
 ],
 "metadata": {
  "kernelspec": {
   "display_name": "Python 3",
   "language": "python",
   "name": "python3"
  },
  "language_info": {
   "codemirror_mode": {
    "name": "ipython",
    "version": 3
   },
   "file_extension": ".py",
   "mimetype": "text/x-python",
   "name": "python",
   "nbconvert_exporter": "python",
   "pygments_lexer": "ipython3",
   "version": "3.7.12"
  },
  "papermill": {
   "default_parameters": {},
   "duration": 92.798444,
   "end_time": "2022-02-11T10:01:09.664149",
   "environment_variables": {},
   "exception": null,
   "input_path": "__notebook__.ipynb",
   "output_path": "__notebook__.ipynb",
   "parameters": {},
   "start_time": "2022-02-11T09:59:36.865705",
   "version": "2.3.3"
  }
 },
 "nbformat": 4,
 "nbformat_minor": 5
}
